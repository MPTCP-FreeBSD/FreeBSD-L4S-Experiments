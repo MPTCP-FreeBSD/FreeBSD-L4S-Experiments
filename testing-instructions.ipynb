{
 "cells": [
  {
   "cell_type": "code",
   "execution_count": null,
   "metadata": {},
   "outputs": [],
   "source": [
    "iperf3 -s -p 5101 --rcv-timeout 3600000\n",
    "killall iperf3"
   ]
  },
  {
   "cell_type": "code",
   "execution_count": null,
   "metadata": {},
   "outputs": [],
   "source": [
    "csh copy_keys.sh 192.168.56.1 ubuntu\n",
    "csh test_copy_confs.sh"
   ]
  },
  {
   "cell_type": "code",
   "execution_count": null,
   "metadata": {},
   "outputs": [],
   "source": [
    "ssh -p 4422 -i .ssh/mptcprootkey root@localhost"
   ]
  },
  {
   "cell_type": "code",
   "execution_count": null,
   "metadata": {},
   "outputs": [],
   "source": [
    "ssh -p 3322 -i ~/.ssh/mptcprootkey root@192.168.56.1 \"iperf3 -c 172.16.3.2 -t 60\"\n",
    "ssh -p 3322 -i ~/.ssh/mptcprootkey root@192.168.56.1 \"iperf3 -p 5101 -c 172.16.3.2 -t 60\" >/dev/null & "
   ]
  },
  {
   "cell_type": "code",
   "execution_count": null,
   "metadata": {},
   "outputs": [],
   "source": [
    "#To enable ECN, run the following command as the root user:\n",
    "sysctl net.inet.tcp.ecn.enable=1\n",
    "\n",
    "#To enable Accurate ECN Feedback, run the following command as the root user:\n",
    "sysctl net.inet.tcp.ecn.enable=3\n",
    "\n",
    "#mainly on test1 VM\n"
   ]
  },
  {
   "cell_type": "code",
   "execution_count": null,
   "metadata": {},
   "outputs": [],
   "source": [
    "git checkout origin/FQ-PIE-DEV;git pull origin FQ-PIE-DEV;make buildkernel -j2 -DKERNFAST KERNCONF=L4SKERNEL;make installkernel -j2 -DKERNFAST KERNCONF=L4SKERNEL; shutdown -r now"
   ]
  },
  {
   "cell_type": "code",
   "execution_count": null,
   "metadata": {},
   "outputs": [],
   "source": [
    "rm *.siftr.log;rm *.pcap;rm *.out"
   ]
  },
  {
   "cell_type": "code",
   "execution_count": null,
   "metadata": {},
   "outputs": [],
   "source": [
    "ipfw -f flush;ipfw pipe 1 config bw 10Mbps delay 20ms codel;ipfw add 100 pipe 1 ip from any to any"
   ]
  },
  {
   "cell_type": "code",
   "execution_count": null,
   "metadata": {},
   "outputs": [],
   "source": [
    "ipfw -f flush;ipfw pipe 1 config bw 10Mbps delay 20ms pie;ipfw add 100 pipe 1 ip from any to any"
   ]
  },
  {
   "cell_type": "code",
   "execution_count": null,
   "metadata": {},
   "outputs": [],
   "source": [
    "ipfw -f flush;ipfw pipe 1 config bw 10Mbits/s delay 20ms;ipfw sched 1 config pipe 1 type fq_pie ecn;ipfw queue 1 config sched 1;ipfw add 100 queue 1 ip from 172.16.0.0/16 to 172.16.0.0/16"
   ]
  },
  {
   "cell_type": "code",
   "execution_count": null,
   "metadata": {},
   "outputs": [],
   "source": [
    "ipfw -f flush;ipfw pipe 1 config bw 10Mbits/s delay 20ms;ipfw sched 1 config pipe 1 type fq_codel ecn;ipfw queue 1 config sched 1;ipfw add 100 queue 1 ip from 172.16.0.0/16 to 172.16.0.0/16"
   ]
  },
  {
   "cell_type": "code",
   "execution_count": null,
   "metadata": {},
   "outputs": [],
   "source": [
    "ipfw -f flush;;ipfw pipe 1 config bw 10Mbits/s delay 20ms ; ipfw sched 1 config pipe 1 type l4s ecn ; ipfw queue 1 config sched 1 ; ipfw add 100 queue 1 ip from 172.16.0.0/16 to 172.16.0.0/16"
   ]
  },
  {
   "cell_type": "markdown",
   "metadata": {},
   "source": [
    "Copy all files"
   ]
  },
  {
   "cell_type": "code",
   "execution_count": null,
   "metadata": {},
   "outputs": [],
   "source": [
    "sudo scp -P 4422 -p -i ~/.ssh/mptcprootkey root@192.168.56.1:*.txt ./"
   ]
  },
  {
   "cell_type": "code",
   "execution_count": null,
   "metadata": {},
   "outputs": [],
   "source": [
    "sudo scp -P 3322 -p -i ~/.ssh/mptcprootkey root@192.168.56.1:*.siftr.log ./datatest1; sudo scp -P 3322 -p -i ~/.ssh/mptcprootkey root@192.168.56.1:*.pcap ./datatest1;sudo scp -P 3322 -p -i ~/.ssh/mptcprootkey root@192.168.56.1:*.out ./datatest1"
   ]
  },
  {
   "cell_type": "code",
   "execution_count": null,
   "metadata": {},
   "outputs": [],
   "source": [
    "sudo scp -P 3323 -p -i ~/.ssh/mptcprootkey root@192.168.56.1:*.siftr.log ./datatest2; sudo scp -P 3323 -p -i ~/.ssh/mptcprootkey root@192.168.56.1:*.pcap ./datatest2;sudo scp -P 3323 -p -i ~/.ssh/mptcprootkey root@192.168.56.1:*.out ./datatest2"
   ]
  },
  {
   "cell_type": "code",
   "execution_count": null,
   "metadata": {},
   "outputs": [],
   "source": [
    "sudo scp -P 3322 -p -i ~/.ssh/mptcprootkey root@192.168.56.1:l4s*.siftr.log ./datatest1; sudo scp -P 3322 -p -i ~/.ssh/mptcprootkey root@192.168.56.1:l4s*.pcap ./datatest1;sudo scp -P 3322 -p -i ~/.ssh/mptcprootkey root@192.168.56.1:l4s*.out ./datatest1\n",
    "sudo scp -P 3323 -p -i ~/.ssh/mptcprootkey root@192.168.56.1:l4s*.siftr.log ./datatest2; sudo scp -P 3323 -p -i ~/.ssh/mptcprootkey root@192.168.56.1:l4s*.pcap ./datatest2;sudo scp -P 3323 -p -i ~/.ssh/mptcprootkey root@192.168.56.1:l4s*.out ./datatest2"
   ]
  },
  {
   "cell_type": "markdown",
   "metadata": {},
   "source": [
    "All AQM SCript test in one line"
   ]
  },
  {
   "cell_type": "code",
   "execution_count": null,
   "metadata": {},
   "outputs": [],
   "source": [
    "(csh codel1_ecn.sh; csh codel2_ecn.sh; csh fqcodel1_ecn.sh; csh fqcodel2_ecn.sh; csh fqpie1_ecn.sh; csh fqpie2_ecn.sh; csh pie1_ecn.sh; csh pie2_ecn.sh; csh codel1_noecn.sh; csh codel2_noecn.sh; csh fqcodel1_noecn.sh; csh fqcodel2_noecn.sh; csh fqpie1_noecn.sh; csh fqpie2_noecn.sh; csh pie1_noecn.sh; csh pie2_noecn.sh;) > terminaloutput.txt"
   ]
  },
  {
   "cell_type": "code",
   "execution_count": null,
   "metadata": {},
   "outputs": [],
   "source": [
    "(csh l4s1_ecn.sh; csh l4s2_ecn.sh; csh l4s1_noecn.sh; csh l4s2_noecn.sh) > l4sterminaloutput.txt"
   ]
  },
  {
   "cell_type": "markdown",
   "metadata": {},
   "source": [
    "Build Kernel Install Kernel"
   ]
  },
  {
   "cell_type": "code",
   "execution_count": null,
   "metadata": {},
   "outputs": [],
   "source": [
    "make buildkernel -j2 -DKERNFAST KERNCONF=MYKERNEL;make installkernel -j2 -DKERNFAST KERNCONF=MYKERNEL; shutdown -r now"
   ]
  },
  {
   "cell_type": "code",
   "execution_count": null,
   "metadata": {},
   "outputs": [],
   "source": [
    "make buildkernel -j2 -DKERNFAST KERNCONF=L4SKERNEL;make installkernel -j2 -DKERNFAST KERNCONF=L4SKERNEL; shutdown -r now"
   ]
  },
  {
   "cell_type": "code",
   "execution_count": null,
   "metadata": {},
   "outputs": [],
   "source": [
    "make buildkernel -j2 KERNCONF=L4SKERNEL;make installkernel -j2 KERNCONF=L4SKERNEL; shutdown -r now"
   ]
  },
  {
   "cell_type": "code",
   "execution_count": null,
   "metadata": {},
   "outputs": [],
   "source": [
    "git checkout origin/L4S-ECT1;git pull origin L4S-ECT1;make buildkernel -j2 -DKERNFAST KERNCONF=L4SKERNEL;make installkernel -j2 -DKERNFAST KERNCONF=L4SKERNEL; shutdown -r now"
   ]
  },
  {
   "cell_type": "code",
   "execution_count": null,
   "metadata": {},
   "outputs": [],
   "source": [
    "git checkout origin/FreeBSD-L4S;git pull origin FreeBSD-L4S"
   ]
  },
  {
   "cell_type": "code",
   "execution_count": null,
   "metadata": {},
   "outputs": [],
   "source": [
    "git checkout origin/L4S-ECT1DEBUG;git pull origin L4S-ECT1DEBUG;make buildkernel -j2 -DKERNFAST KERNCONF=L4SKERNEL;make installkernel -j2 -DKERNFAST KERNCONF=L4SKERNEL; shutdown -r now\n"
   ]
  },
  {
   "cell_type": "code",
   "execution_count": null,
   "metadata": {},
   "outputs": [],
   "source": [
    "git checkout origin/FQ-PIE-DEV;git pull origin FQ-PIE-DEV;make buildkernel -j2 -DKERNFAST KERNCONF=L4SKERNEL;make installkernel -j2 -DKERNFAST KERNCONF=L4SKERNEL; shutdown -r now"
   ]
  },
  {
   "cell_type": "code",
   "execution_count": null,
   "metadata": {},
   "outputs": [],
   "source": [
    "cat /var/log/messages > messagesoutput.txt\n",
    "sudo scp -P 4422 -p -i ~/.ssh/mptcprootkey root@192.168.56.1:/var/log/*.txt ./\n",
    "sudo scp -P 4422 -p -i ~/.ssh/mptcprootkey root@192.168.56.1:messagesoutput.txt ./"
   ]
  },
  {
   "cell_type": "code",
   "execution_count": null,
   "metadata": {},
   "outputs": [],
   "source": [
    "include\t\tGENERIC\n",
    "\n",
    "options\t\tKDB\n",
    "options\t\tDDB\n",
    "\n",
    "options\t\tALQ\n",
    "\n",
    "options\t\tBREAK_TO_DEBUGGER\n",
    "options \tALT_BREAK_TO_DEBUGGER\n",
    "\n",
    "options \tIPFIREWALL\n",
    "options \tIPFIREWALL_DEFAULT_TO_ACCEPT\n",
    "\n",
    "nooptions\tINET6\n",
    "nooptions\tIPSEC"
   ]
  },
  {
   "cell_type": "code",
   "execution_count": null,
   "metadata": {},
   "outputs": [],
   "source": [
    "typedef uint32_t aqm_time_t;\n",
    "typedef int32_t aqm_stime_t;"
   ]
  },
  {
   "cell_type": "code",
   "execution_count": null,
   "metadata": {},
   "outputs": [],
   "source": [
    "/* PIE parameters */\n",
    "struct dn_aqm_pie_parms {\n",
    "\taqm_time_t\tqdelay_ref;\t/* AQM Latency Target (default: 15ms) */\n",
    "\taqm_time_t\ttupdate;\t\t/* a period to calculate drop probability (default:15ms) */\n",
    "\taqm_time_t\tmax_burst;\t/* AQM Max Burst Allowance (default: 150ms) */\n",
    "\tuint16_t\tmax_ecnth;\t/*AQM Max ECN Marking Threshold (default: 10%) */\n",
    "\tuint16_t\talpha;\t\t\t/* (default: 1/8) */\n",
    "\tuint16_t\tbeta;\t\t\t/* (default: 1+1/4) */\n",
    "\tuint32_t\tflags;\t\t\t/* PIE options */\n",
    "};\n",
    "\n",
    "/* PIE status variables */\n",
    "struct pie_status{\n",
    "\tstruct callout\taqm_pie_callout;\n",
    "\taqm_time_t\tburst_allowance;\n",
    "\tuint32_t\tdrop_prob;\n",
    "\taqm_time_t\tcurrent_qdelay;\n",
    "\taqm_time_t\tqdelay_old;\n",
    "\tuint64_t\taccu_prob;\n",
    "\taqm_time_t\tmeasurement_start;\n",
    "\taqm_time_t\tavg_dq_time;\n",
    "\tuint32_t\tdq_count;\n",
    "\tuint32_t\tsflags;\n",
    "\tstruct dn_aqm_pie_parms *parms;\t/* pointer to PIE configurations */\n",
    "\t/* pointer to parent queue of FQ-PIE sub-queues, or  queue of owner fs. */\n",
    "\tstruct dn_queue\t*pq;\t\n",
    "\tstruct mtx\tlock_mtx;\n",
    "\tuint32_t one_third_q_size; /* 1/3 of queue size, for speed optization */\n",
    "};"
   ]
  },
  {
   "cell_type": "code",
   "execution_count": null,
   "metadata": {},
   "outputs": [],
   "source": [
    "/* flow (sub-queue) stats */\n",
    "struct flow_stats {\n",
    "\tuint64_t tot_pkts;\t/* statistics counters  */\n",
    "\tuint64_t tot_bytes;\n",
    "\tuint32_t length;\t\t/* Queue length, in packets */\n",
    "\tuint32_t len_bytes;\t/* Queue length, in bytes */\n",
    "\tuint32_t drops;\n",
    "};\n",
    "\n",
    "/* A flow of packets (sub-queue)*/\n",
    "struct fq_pie_flow {\n",
    "\tstruct mq\tmq;\t/* list of packets */\n",
    "\tstruct flow_stats stats;\t/* statistics */\n",
    "\tint deficit;\n",
    "\tint flow_index;\n",
    "\tint active;\t\t/* 1: flow is active (in a list) */\n",
    "\tstruct pie_status pst;\t/* pie status variables */\n",
    "\tstruct fq_pie_si_extra *psi_extra;\n",
    "\tSTAILQ_ENTRY(fq_pie_flow) flowchain;\n",
    "};"
   ]
  }
 ],
 "metadata": {
  "kernelspec": {
   "display_name": "base",
   "language": "python",
   "name": "python3"
  },
  "language_info": {
   "name": "python",
   "version": "3.11.7"
  },
  "orig_nbformat": 4
 },
 "nbformat": 4,
 "nbformat_minor": 2
}
